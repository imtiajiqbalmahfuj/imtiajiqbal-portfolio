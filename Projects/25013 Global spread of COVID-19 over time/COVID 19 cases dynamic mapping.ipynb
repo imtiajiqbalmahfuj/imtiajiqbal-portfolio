{
 "cells": [
  {
   "cell_type": "code",
   "execution_count": null,
   "id": "bad8f2d7-74a1-4087-b8e3-d69f7592ff3f",
   "metadata": {},
   "outputs": [],
   "source": [
    "import pandas as pd\n",
    "import geopandas as gpd\n",
    "import PIL\n",
    "import io\n",
    "import matplotlib.pyplot as plt"
   ]
  },
  {
   "cell_type": "code",
   "execution_count": null,
   "id": "123be81d-c85d-4a54-9381-8e3826057e28",
   "metadata": {},
   "outputs": [],
   "source": [
    "data = pd.read_csv(\"time_series_covid19_confirmed_global.csv\")"
   ]
  },
  {
   "cell_type": "code",
   "execution_count": null,
   "id": "d091b168-5337-46eb-abea-5e4a7b21ecad",
   "metadata": {},
   "outputs": [],
   "source": [
    "data"
   ]
  },
  {
   "cell_type": "code",
   "execution_count": null,
   "id": "76cdfff6-562a-4ebf-8dec-7fef98feaec1",
   "metadata": {},
   "outputs": [],
   "source": [
    "# The real structure: rows = countries, columns = dates\n",
    "# So: set 'Country/Region' as index, drop unused columns, then transpose\n",
    "#Group the data by country\n",
    "\n",
    "data1 = data.drop(['Province/State','Lat','Long'], axis=1).groupby('Country/Region').sum()\n",
    "data1"
   ]
  },
  {
   "cell_type": "code",
   "execution_count": null,
   "id": "8caaa895-daa1-49f1-82bd-965092710fe6",
   "metadata": {},
   "outputs": [],
   "source": [
    "print(data1.columns)"
   ]
  },
  {
   "cell_type": "code",
   "execution_count": null,
   "id": "c2424113-baa9-48aa-9e59-0d0f18b02302",
   "metadata": {},
   "outputs": [],
   "source": [
    "#create transpose of the dataframe"
   ]
  },
  {
   "cell_type": "code",
   "execution_count": null,
   "id": "a7367be4-1b3c-470e-b5a0-4071a20c0e83",
   "metadata": {},
   "outputs": [],
   "source": [
    "data_transposed = data1.T\n",
    "data_transposed.head()"
   ]
  },
  {
   "cell_type": "code",
   "execution_count": null,
   "id": "f1785db2-5b4c-4997-9a35-22aeb8582277",
   "metadata": {},
   "outputs": [],
   "source": [
    "print(data_transposed.columns)"
   ]
  },
  {
   "cell_type": "code",
   "execution_count": null,
   "id": "0e78f04d-6078-4ed3-8f8f-475d5c8127bf",
   "metadata": {},
   "outputs": [],
   "source": [
    "ax = data_transposed.plot(y = ['Australia', 'China', 'US', 'India', 'Bangladesh'], figsize = (12,8))\n",
    "\n",
    "\n",
    "\n",
    "# Map beautification\n",
    "ax.set_title(\"Confirmed Coronavisus Cases Comparison\", \n",
    "             fontdict = {'fontsize':18}, pad = 12.5)\n",
    "# remove axis\n",
    "#ax.set_axis_off()\n",
    "\n",
    "# move legend\n",
    "#ax.get_legend().set_bbox_to_anchor((0.18, 0.6))\n",
    "\n",
    "# Get the figure from the axes\n",
    "fig = ax.get_figure()\n",
    "# Save the figure\n",
    "fig.savefig(\"4 country comparison.png\", dpi=300, bbox_inches='tight')"
   ]
  },
  {
   "cell_type": "code",
   "execution_count": null,
   "id": "1e0a8dad-1472-4615-a569-b2444bddadcb",
   "metadata": {},
   "outputs": [],
   "source": [
    "# Read shapefile\n",
    "world = gpd.read_file('World_Map.shp')\n",
    "world.plot()\n",
    "\n",
    "# Plot\n",
    "ax = world.plot(figsize=(12,8), edgecolor='black', color='lightblue')\n",
    "\n",
    "# Optional: add title\n",
    "ax.set_title(\"World Map\", fontsize=18, pad=12)\n",
    "\n",
    "# Optional: remove axes\n",
    "ax.set_axis_off()\n",
    "\n",
    "# Get figure object\n",
    "fig = ax.get_figure()\n",
    "fig.savefig(\"World_Map.png\", dpi=300, bbox_inches='tight')"
   ]
  },
  {
   "cell_type": "code",
   "execution_count": null,
   "id": "251f9f84-c576-4bf7-846d-873788ca385e",
   "metadata": {},
   "outputs": [],
   "source": [
    "type(world)"
   ]
  },
  {
   "cell_type": "code",
   "execution_count": null,
   "id": "30738ae7-9378-4f43-abfa-574959c79c87",
   "metadata": {},
   "outputs": [],
   "source": [
    "world.head()"
   ]
  },
  {
   "cell_type": "code",
   "execution_count": null,
   "id": "fa38d8a4-d0bd-43ca-acfe-58ed3380c63c",
   "metadata": {},
   "outputs": [],
   "source": [
    "print(world.columns)"
   ]
  },
  {
   "cell_type": "code",
   "execution_count": null,
   "id": "a0b297fa-f20b-4842-9b96-8c3d5999a3a0",
   "metadata": {},
   "outputs": [],
   "source": [
    "world.set_index('NAME')\n",
    "print(world.columns)"
   ]
  },
  {
   "cell_type": "code",
   "execution_count": null,
   "id": "3ca0dbc5-fb38-4854-aa14-da1f24a8dd77",
   "metadata": {},
   "outputs": [],
   "source": [
    "world.replace('Viet Nam','Vietnam', inplace = True)\n",
    "world.replace('Brunei Darussalam','Brunei', inplace = True)\n",
    "world.replace('Cape Verde', 'Cabo Verde', inplace = True)\n",
    "world.replace('Democratic Republic of the Congo', 'Congo (Kinshasa)', inplace = True)\n",
    "world.replace('Congo','Congo (Brazzaville)', inplace = True)\n",
    "world.replace('Iran (Islamic Republic of)','Iran ', inplace = True)\n",
    "world.replace('Korea, Republic of', 'Korea, South', inplace = True)\n",
    "world.replace('United States','US', inplace = True)\n",
    "world.replace('Palestine', 'West Bank and Gaza', inplace = True)"
   ]
  },
  {
   "cell_type": "markdown",
   "id": "a4b9dcb9-0067-4326-ac49-56b566f2bc2c",
   "metadata": {},
   "source": [
    "# check name similarity\n",
    "for index, row in data1.iterrows():\n",
    "    if index not in world['NAME'].to_list():\n",
    "        print(f' {index} is not in the list')\n",
    "    else:\n",
    "        pass"
   ]
  },
  {
   "cell_type": "code",
   "execution_count": null,
   "id": "7fd796bb-c762-4b9e-96d7-a3e231c34e75",
   "metadata": {},
   "outputs": [],
   "source": [
    "#merge\n",
    "merge = world.join(data1, on = \"NAME\", how = \"right\" )\n",
    "merge.head()"
   ]
  },
  {
   "cell_type": "code",
   "execution_count": null,
   "id": "b6b763b5-5ab5-4846-8296-230b78c06ab0",
   "metadata": {},
   "outputs": [],
   "source": [
    "ax = merge.plot(column = \"2/15/20\",\n",
    "               cmap = 'OrRd',\n",
    "               figsize = (10,10),\n",
    "               legend = True,\n",
    "               edgecolor = 'black',\n",
    "               linewidth = 0.4,\n",
    "               scheme = 'user_defined',\n",
    "               classification_kwds = {'bins': [10,20,50,100,500,1000,5000,10000,500000]})"
   ]
  },
  {
   "cell_type": "code",
   "execution_count": null,
   "id": "9bb058d6-2ed1-4b71-bb4a-4d2c33f2e085",
   "metadata": {},
   "outputs": [],
   "source": [
    "ax = merge.plot(column = \"3/1/20\",\n",
    "               cmap = 'OrRd',\n",
    "               figsize = (10,10),\n",
    "               legend = True,\n",
    "               edgecolor = 'black',\n",
    "               linewidth = 0.4,\n",
    "               scheme = 'user_defined',\n",
    "               classification_kwds = {'bins': [10,20,50,100,500,1000,5000,10000,500000]})"
   ]
  },
  {
   "cell_type": "code",
   "execution_count": null,
   "id": "f624d53d-592d-4295-98c9-679277db1345",
   "metadata": {},
   "outputs": [],
   "source": [
    "ax = merge.plot(column = \"3/15/20\",\n",
    "               cmap = 'OrRd',\n",
    "               figsize = (10,10),\n",
    "               legend = True,\n",
    "               edgecolor = 'black',\n",
    "               linewidth = 0.4,\n",
    "               scheme = 'user_defined',\n",
    "               classification_kwds = {'bins': [10,20,50,100,500,1000,5000,10000,500000]})"
   ]
  },
  {
   "cell_type": "code",
   "execution_count": null,
   "id": "6a06cda4-9470-4bcb-b419-6cf6c7331b11",
   "metadata": {},
   "outputs": [],
   "source": [
    "ax = merge.plot(column = \"4/15/20\",\n",
    "               cmap = 'OrRd',\n",
    "               figsize = (10,10),\n",
    "               legend = True,\n",
    "               edgecolor = 'black',\n",
    "               linewidth = 0.4,\n",
    "               scheme = 'user_defined',\n",
    "               classification_kwds = {'bins': [10,20,50,100,500,1000,5000,10000,500000]})"
   ]
  },
  {
   "cell_type": "code",
   "execution_count": null,
   "id": "769a3e32-02ce-4989-b032-2410e0ed449e",
   "metadata": {},
   "outputs": [],
   "source": [
    "ax = merge.plot(column = \"6/15/20\",\n",
    "               cmap = 'OrRd',\n",
    "               figsize = (10,10),\n",
    "               legend = True,\n",
    "               edgecolor = 'black',\n",
    "               linewidth = 0.4,\n",
    "               scheme = 'user_defined',\n",
    "               classification_kwds = {'bins': [10,20,50,100,500,1000,5000,10000,500000]})\n",
    "\n",
    "# Map beautification\n",
    "ax.set_title(\"Total Confirmed Coronavisus Cases (15/06/20)\", \n",
    "             fontdict = {'fontsize':18}, pad = 12.5)\n",
    "# remove axis\n",
    "ax.set_axis_off()\n",
    "\n",
    "# move legend\n",
    "ax.get_legend().set_bbox_to_anchor((0.18, 0.6))\n",
    "\n",
    "# Save figure\n",
    "fig = ax.get_figure()\n",
    "fig.savefig(\"COVID_Map_6_15_20.png\", dpi=300, bbox_inches='tight')"
   ]
  },
  {
   "cell_type": "code",
   "execution_count": null,
   "id": "08be316a-cb91-42b5-aae5-3ae85afb0fde",
   "metadata": {},
   "outputs": [],
   "source": [
    "merge.columns"
   ]
  },
  {
   "cell_type": "code",
   "execution_count": null,
   "id": "29257603-fa0f-452e-aa8e-b22e00122d85",
   "metadata": {},
   "outputs": [],
   "source": [
    "type(merge.columns)"
   ]
  },
  {
   "cell_type": "code",
   "execution_count": null,
   "id": "859866e1-adb6-4e12-b8b2-29ec1e755cea",
   "metadata": {},
   "outputs": [],
   "source": [
    "# merge.columns.to_list()"
   ]
  },
  {
   "cell_type": "code",
   "execution_count": null,
   "id": "1337b91c-6317-4bfb-80d8-e3956566d2d5",
   "metadata": {},
   "outputs": [],
   "source": [
    "merge.columns.to_list()[0]"
   ]
  },
  {
   "cell_type": "code",
   "execution_count": null,
   "id": "76fa86f2-119d-4cc5-8777-92de32265482",
   "metadata": {},
   "outputs": [],
   "source": [
    "# merge.columns.to_list()[1]"
   ]
  },
  {
   "cell_type": "code",
   "execution_count": null,
   "id": "182b4ecf-69bb-4abe-a33c-2fe23f6c869a",
   "metadata": {},
   "outputs": [],
   "source": [
    "# merge.columns.to_list()[2]"
   ]
  },
  {
   "cell_type": "code",
   "execution_count": null,
   "id": "dcb23adf-58e6-42ac-bc88-f85f3e8154dd",
   "metadata": {},
   "outputs": [],
   "source": [
    "# len(merge.columns.to_list())"
   ]
  },
  {
   "cell_type": "code",
   "execution_count": null,
   "id": "ca8a7756-2a02-4904-b9e8-6bbcdf8cc7bd",
   "metadata": {},
   "outputs": [],
   "source": [
    "merge.columns.to_list()[2:]"
   ]
  },
  {
   "cell_type": "code",
   "execution_count": null,
   "id": "4c22f4ca-8ee4-4b39-8405-b13bf496a597",
   "metadata": {},
   "outputs": [],
   "source": [
    "len(merge.columns.to_list()[2:])"
   ]
  },
  {
   "cell_type": "code",
   "execution_count": null,
   "id": "7460bf27-fd73-4312-be6a-d84e1552a223",
   "metadata": {},
   "outputs": [],
   "source": [
    "for dates in merge.columns.to_list()[2:8]:\n",
    "\n",
    "    #plot\n",
    "    ax1 = merge.plot(column = dates,\n",
    "                   cmap = 'OrRd',\n",
    "                   figsize = (10,10),\n",
    "                   legend = True,\n",
    "                   edgecolor = 'black',\n",
    "                   linewidth = 0.4,\n",
    "                   scheme = 'user_defined',\n",
    "                   classification_kwds = {'bins': [10,20,50,100,500,1000,5000,10000,500000]})\n",
    "    \n",
    "    # Map beautification\n",
    "    ax1.set_title(\"Total Confirmed Coronavisus Cases: \" + dates, \n",
    "                 fontdict = {'fontsize':18}, pad = 12.5)\n",
    "    ax1.text(0.5, -0.05, \"Imtiaj Iqbal Mahfuj\", fontsize=10, ha='center', transform=ax1.transAxes)\n",
    "    # remove axis\n",
    "    ax1.set_axis_off()\n",
    "    \n",
    "    # move legend\n",
    "    ax1.get_legend().set_bbox_to_anchor((0.18, 0.6))"
   ]
  },
  {
   "cell_type": "code",
   "execution_count": null,
   "id": "b46e92c8-df03-4a9b-a897-9486cc499abe",
   "metadata": {},
   "outputs": [],
   "source": [
    "# empty list\n",
    "image_frames = []\n",
    "\n",
    "\n",
    "for dates in merge.columns.to_list()[2:366]:\n",
    "\n",
    "    #plot\n",
    "    ax1 = merge.plot(column = dates,\n",
    "                   cmap = 'OrRd',\n",
    "                   figsize = (14,14),\n",
    "                   legend = True,\n",
    "                   edgecolor = 'black',\n",
    "                   linewidth = 0.4,\n",
    "                   scheme = 'user_defined',\n",
    "                   classification_kwds = {'bins': [10,20,50,100,500,1000,5000,10000,500000]})\n",
    "    \n",
    "    # Map beautification\n",
    "    ax1.set_title(\"Total Confirmed Coronavisus Cases: \" + dates, \n",
    "                 fontdict = {'fontsize':18}, pad = 12.5)\n",
    "    \n",
    "    ax1.text(0.5, -0.05, \"Imtiaj Iqbal Mahfuj\", fontsize=10, ha='center', transform=ax1.transAxes)\n",
    "    \n",
    "    # remove axis\n",
    "    ax1.set_axis_off()\n",
    "    \n",
    "    # move legend\n",
    "    ax1.get_legend().set_bbox_to_anchor((0.18, 0.6))\n",
    "\n",
    "    img = ax1.get_figure()\n",
    "\n",
    "    f = io.BytesIO()\n",
    "    img.savefig(f, format = 'png', bbox_inches = 'tight', dpi=300)\n",
    "    f.seek(0)\n",
    "    image_frames.append(PIL.Image.open(f))\n",
    "\n",
    "\n",
    "# Create GIF\n",
    "image_frames[0].save(\"Dynamic COVID 19 Map.gif\", format = \"GIF\",\n",
    "                    append_images = image_frames[1:],\n",
    "                    save_all = True, duration = 100, \n",
    "                    loop = 1)\n",
    "\n",
    "f.close()"
   ]
  },
  {
   "cell_type": "code",
   "execution_count": null,
   "id": "39aa601b-74ce-409f-89f7-444d46f7d9e1",
   "metadata": {},
   "outputs": [],
   "source": [
    "image_frames[1]"
   ]
  }
 ],
 "metadata": {
  "kernelspec": {
   "display_name": "Python 3 (ipykernel)",
   "language": "python",
   "name": "python3"
  },
  "language_info": {
   "codemirror_mode": {
    "name": "ipython",
    "version": 3
   },
   "file_extension": ".py",
   "mimetype": "text/x-python",
   "name": "python",
   "nbconvert_exporter": "python",
   "pygments_lexer": "ipython3",
   "version": "3.12.7"
  }
 },
 "nbformat": 4,
 "nbformat_minor": 5
}
